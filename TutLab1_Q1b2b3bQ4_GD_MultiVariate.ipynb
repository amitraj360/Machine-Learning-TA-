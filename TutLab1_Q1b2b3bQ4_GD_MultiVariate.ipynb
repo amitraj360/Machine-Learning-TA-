{
  "cells": [
    {
      "cell_type": "markdown",
      "metadata": {
        "id": "view-in-github",
        "colab_type": "text"
      },
      "source": [
        "<a href=\"https://colab.research.google.com/github/amitraj360/Machine-Learning-TA-/blob/main/TutLab1_Q1b2b3bQ4_GD_MultiVariate.ipynb\" target=\"_parent\"><img src=\"https://colab.research.google.com/assets/colab-badge.svg\" alt=\"Open In Colab\"/></a>"
      ]
    },
    {
      "cell_type": "code",
      "execution_count": null,
      "metadata": {
        "id": "tlH4ktl_PNsy"
      },
      "outputs": [],
      "source": [
        "import numpy as np\n",
        "import random\n",
        "\n",
        "# m denotes the number of examples here, not the number of features\n",
        "def gradientDescent(x, y, theta, alpha, m, numIterations):\n",
        "    cost_history = np.zeros(numIterations)\n",
        "    xTrans = x.transpose()\n",
        "    for i in range(0, numIterations):\n",
        "        hypothesis = np.dot(x, theta)\n",
        "        loss = hypothesis - y\n",
        "        # avg cost per example (the 2 in 2*m doesn't really matter here.\n",
        "        # But to be consistent with the gradient, I include it)\n",
        "        #cost = np.sum(loss ** 2) / (2 * m)\n",
        "        \n",
        "        cost_history[i] = np.sum(loss ** 2) / (2 * m)\n",
        "        print(\"Iteration %d | Cost: %f\" % (i, cost_history[i]))\n",
        "        # avg gradient per example\n",
        "        print(xTrans.shape)\n",
        "        print(loss.shape)\n",
        "        gradient = np.dot(xTrans, loss) / m\n",
        "        # update\n",
        "        theta = theta - alpha * gradient\n",
        "    return theta, cost_history\n",
        "\n",
        "\n",
        "def genData(numPoints, bias, variance):\n",
        "    x = np.zeros(shape=(numPoints, 3))\n",
        "    y = np.zeros(shape=numPoints)\n",
        "    # basically a straight line\n",
        "    for i in range(0, numPoints):\n",
        "        # bias feature\n",
        "        x[i][0] = 1\n",
        "        x[i][1] = i\n",
        "        x[i][2] = np.sqrt(i)\n",
        "        # our target variable\n",
        "        y[i] = (i + bias) + random.uniform(0, 1) * variance\n",
        "    return x, y\n",
        "\n",
        "# gen 100 points with a bias of 25 and 10 variance as a bit of noise\n",
        "x, y = genData(100, 25, 10)\n",
        "m, n = np.shape(x)\n",
        "alpha = 0.0001 #learrning  rate \n",
        "theta = np.ones(n)\n",
        "numIterations= 100 #number of iterations\n",
        "cost_history = np.zeros(numIterations)\n",
        "theta, cost_history = gradientDescent(x, y, theta, alpha, m, numIterations)\n",
        "print(theta)"
      ]
    },
    {
      "cell_type": "code",
      "execution_count": 22,
      "metadata": {
        "colab": {
          "base_uri": "https://localhost:8080/",
          "height": 421
        },
        "id": "Xw4EB4acPNs0",
        "outputId": "60b7f7a5-b12a-46f7-c2fe-02b883fe7e4d"
      },
      "outputs": [
        {
          "output_type": "execute_result",
          "data": {
            "text/plain": [
              "Text(0.5, 1.0, 'Convergence of gradient descent')"
            ]
          },
          "metadata": {},
          "execution_count": 22
        },
        {
          "output_type": "display_data",
          "data": {
            "text/plain": [
              "<Figure size 720x432 with 1 Axes>"
            ],
            "image/png": "[encoded data removed]"
          },
          "metadata": {
            "needs_background": "light"
          }
        }
      ],
      "source": [
        "import matplotlib.pyplot as plt\n",
        "plt.plot(range(1, numIterations +1), cost_history, color ='blue')\n",
        "plt.rcParams[\"figure.figsize\"] = (10,6)\n",
        "plt.grid()\n",
        "plt.xlabel(\"Number of iterations\")\n",
        "plt.ylabel(\"cost (J)\")\n",
        "plt.title(\"Convergence of gradient descent\")"
      ]
    },
    {
      "cell_type": "code",
      "execution_count": 23,
      "metadata": {
        "id": "x6tjmvd8PNs0"
      },
      "outputs": [],
      "source": [
        "import numpy as np\n",
        "import random"
      ]
    },
    {
      "cell_type": "code",
      "execution_count": 24,
      "metadata": {
        "id": "R2U6O5JMPNs1"
      },
      "outputs": [],
      "source": [
        "x, y = genData(10, 25, 10) #number bais varience"
      ]
    },
    {
      "cell_type": "code",
      "execution_count": 25,
      "metadata": {
        "colab": {
          "base_uri": "https://localhost:8080/",
          "height": 0
        },
        "id": "MpNPyEemPNs1",
        "outputId": "3895b7ae-2be6-4108-fb24-109ff2727b1a"
      },
      "outputs": [
        {
          "output_type": "execute_result",
          "data": {
            "text/plain": [
              "array([[1.        , 0.        , 0.        ],\n",
              "       [1.        , 1.        , 1.        ],\n",
              "       [1.        , 2.        , 1.41421356],\n",
              "       [1.        , 3.        , 1.73205081],\n",
              "       [1.        , 4.        , 2.        ],\n",
              "       [1.        , 5.        , 2.23606798],\n",
              "       [1.        , 6.        , 2.44948974],\n",
              "       [1.        , 7.        , 2.64575131],\n",
              "       [1.        , 8.        , 2.82842712],\n",
              "       [1.        , 9.        , 3.        ]])"
            ]
          },
          "metadata": {},
          "execution_count": 25
        }
      ],
      "source": [
        "x"
      ]
    },
    {
      "cell_type": "code",
      "execution_count": 26,
      "metadata": {
        "colab": {
          "base_uri": "https://localhost:8080/",
          "height": 0
        },
        "id": "yLEh3BWRPNs1",
        "outputId": "bdf045b5-8fd7-4eb5-b513-71321e41f3ac"
      },
      "outputs": [
        {
          "output_type": "execute_result",
          "data": {
            "text/plain": [
              "array([28.60267466, 29.50991168, 31.475879  , 37.33679226, 35.50118158,\n",
              "       31.37400121, 40.17820744, 35.75739288, 33.32968457, 38.93484275])"
            ]
          },
          "metadata": {},
          "execution_count": 26
        }
      ],
      "source": [
        "y"
      ]
    },
    {
      "cell_type": "code",
      "execution_count": 27,
      "metadata": {
        "id": "k0TvOrIfPNs1"
      },
      "outputs": [],
      "source": [
        "def Ypredict(x, theta):\n",
        "  return np.dot(x, theta)"
      ]
    },
    {
      "cell_type": "code",
      "execution_count": 28,
      "metadata": {
        "colab": {
          "base_uri": "https://localhost:8080/",
          "height": 0
        },
        "id": "cpVV3SV_PNs2",
        "outputId": "d6314e26-b6db-4b39-c46f-3c33b2a5144f"
      },
      "outputs": [
        {
          "output_type": "execute_result",
          "data": {
            "text/plain": [
              "array([ 1.07410856,  3.57452717,  5.36528831,  7.03929328,  8.65286081,\n",
              "       10.2278055 , 11.77531517, 13.30203594, 14.81229809, 16.30910947])"
            ]
          },
          "metadata": {},
          "execution_count": 28
        }
      ],
      "source": [
        "y_predict =Ypredict(x,theta)\n",
        "y_predict"
      ]
    },
    {
      "cell_type": "code",
      "execution_count": 29,
      "metadata": {
        "colab": {
          "base_uri": "https://localhost:8080/",
          "height": 0
        },
        "id": "Gr6XO82RPNs2",
        "outputId": "580d85ea-7543-4941-d531-5a1c9f8cf894"
      },
      "outputs": [
        {
          "output_type": "execute_result",
          "data": {
            "text/plain": [
              "array([27.5285661 , 25.93538451, 26.11059069, 30.29749899, 26.84832077,\n",
              "       21.14619572, 28.40289226, 22.45535694, 18.51738648, 22.62573328])"
            ]
          },
          "metadata": {},
          "execution_count": 29
        }
      ],
      "source": [
        "error = y-y_predict\n",
        "error"
      ]
    },
    {
      "cell_type": "code",
      "execution_count": 29,
      "metadata": {
        "id": "HhW5gTYyPNs2"
      },
      "outputs": [],
      "source": []
    }
  ],
  "metadata": {
    "kernelspec": {
      "display_name": "Python 3",
      "language": "python",
      "name": "python3"
    },
    "language_info": {
      "codemirror_mode": {
        "name": "ipython",
        "version": 3
      },
      "file_extension": ".py",
      "mimetype": "text/x-python",
      "name": "python",
      "nbconvert_exporter": "python",
      "pygments_lexer": "ipython3",
      "version": "3.7.6"
    },
    "colab": {
      "provenance": [],
      "include_colab_link": true
    }
  },
  "nbformat": 4,
  "nbformat_minor": 0
}