{
  "cells": [
    {
      "cell_type": "markdown",
      "metadata": {
        "id": "view-in-github",
        "colab_type": "text"
      },
      "source": [
        "<a href=\"https://colab.research.google.com/github/amitraj360/Machine-Learning-TA-/blob/main/TutLab1_Q1(a).ipynb\" target=\"_parent\"><img src=\"https://colab.research.google.com/assets/colab-badge.svg\" alt=\"Open In Colab\"/></a>"
      ]
    },
    {
      "cell_type": "markdown",
      "metadata": {
        "id": "iR3kIFpgK9SY"
      },
      "source": [
        "CS 403/ CS 603, Machine Learning\n"
      ]
    },
    {
      "cell_type": "markdown",
      "metadata": {
        "id": "PBg38YJcLJnw"
      },
      "source": [
        "Lab: 08-01-2021\n"
      ]
    },
    {
      "cell_type": "markdown",
      "metadata": {
        "id": "uNvwSpPILO8I"
      },
      "source": [
        "Closed form Linear Regression"
      ]
    },
    {
      "cell_type": "code",
      "execution_count": null,
      "metadata": {
        "id": "pBQmS6GcLOAK"
      },
      "outputs": [],
      "source": [
        "import matplotlib.pyplot as plt \n",
        "plt.style.use('ggplot')\n",
        "%matplotlib inline"
      ]
    },
    {
      "cell_type": "code",
      "execution_count": null,
      "metadata": {
        "id": "xn3QkhN4LYcP"
      },
      "outputs": [],
      "source": [
        "import numpy as np\n",
        "import pandas as pd  \n",
        "import seaborn as sns \n",
        "plt.rcParams['figure.figsize'] = (12, 8)"
      ]
    },
    {
      "cell_type": "code",
      "execution_count": null,
      "metadata": {
        "id": "vQJFYW4UK_PC",
        "colab": {
          "base_uri": "https://localhost:8080/"
        },
        "outputId": "73495c21-1d43-4065-aef5-dd9df05a872c"
      },
      "outputs": [
        {
          "output_type": "execute_result",
          "data": {
            "text/plain": [
              "array([[2104.,    5.],\n",
              "       [1416.,    3.],\n",
              "       [1534.,    3.]])"
            ]
          },
          "metadata": {},
          "execution_count": 49
        }
      ],
      "source": [
        "X = np.array([[2104, 5],[1416, 3],[1534, 3]], dtype=np.float64)\n",
        "X"
      ]
    },
    {
      "cell_type": "code",
      "execution_count": null,
      "metadata": {
        "id": "go-i1x7QNu96"
      },
      "outputs": [],
      "source": [
        "y = np.array([460, 232, 315], dtype=np.float64)"
      ]
    },
    {
      "cell_type": "code",
      "source": [],
      "metadata": {
        "id": "gxR9oKgJJFhZ"
      },
      "execution_count": null,
      "outputs": []
    },
    {
      "cell_type": "code",
      "source": [
        "y.shape #it should print (3,) but not printing "
      ],
      "metadata": {
        "colab": {
          "base_uri": "https://localhost:8080/"
        },
        "id": "bIcUJ5cHHoPp",
        "outputId": "2b33f739-f60c-4022-9eda-4f54081079d5"
      },
      "execution_count": null,
      "outputs": [
        {
          "output_type": "execute_result",
          "data": {
            "text/plain": [
              "(3,)"
            ]
          },
          "metadata": {},
          "execution_count": 51
        }
      ]
    },
    {
      "cell_type": "code",
      "execution_count": null,
      "metadata": {
        "id": "OfmUy-QfOSiP"
      },
      "outputs": [],
      "source": [
        "y = y[:,np.newaxis] ##increses dimension by one mean one dimension will become 2d so on"
      ]
    },
    {
      "cell_type": "code",
      "execution_count": null,
      "metadata": {
        "colab": {
          "base_uri": "https://localhost:8080/"
        },
        "id": "wJFImSGxN1He",
        "outputId": "12bb29fd-d078-4ad3-e4d0-0d3800d7d034"
      },
      "outputs": [
        {
          "output_type": "execute_result",
          "data": {
            "text/plain": [
              "(3, 1)"
            ]
          },
          "metadata": {},
          "execution_count": 53
        }
      ],
      "source": [
        "y.shape"
      ]
    },
    {
      "cell_type": "code",
      "execution_count": null,
      "metadata": {
        "colab": {
          "base_uri": "https://localhost:8080/"
        },
        "id": "1VvDPB8MLr-3",
        "outputId": "625a0fa4-c361-41d9-f86a-f921c1133b4b"
      },
      "outputs": [
        {
          "output_type": "stream",
          "name": "stdout",
          "text": [
            "(3, 2)\n"
          ]
        }
      ],
      "source": [
        "print(np.shape(X))"
      ]
    },
    {
      "cell_type": "code",
      "execution_count": null,
      "metadata": {
        "colab": {
          "base_uri": "https://localhost:8080/"
        },
        "id": "JHJhIs1bMhoV",
        "outputId": "541e93e1-ca26-4974-c20d-12a4a6e9f8a8"
      },
      "outputs": [
        {
          "output_type": "execute_result",
          "data": {
            "text/plain": [
              "array([[2104.,    5.],\n",
              "       [1416.,    3.],\n",
              "       [1534.,    3.]])"
            ]
          },
          "metadata": {},
          "execution_count": 55
        }
      ],
      "source": [
        "X"
      ]
    },
    {
      "cell_type": "code",
      "execution_count": null,
      "metadata": {
        "id": "wvOJJ-UcMqGv"
      },
      "outputs": [],
      "source": [
        "# ones = np.ones((X.shape[0], 1)) #return a array with size filled with ones\n",
        "# X\n",
        "# X = np.hstack((ones, X)) # function is used to stack the sequence of input arrays horizontally (i.e. column wise) to make a single array."
      ]
    },
    {
      "cell_type": "code",
      "source": [
        "print(X)"
      ],
      "metadata": {
        "colab": {
          "base_uri": "https://localhost:8080/"
        },
        "id": "-Yn59RLAKBMV",
        "outputId": "4a68173f-fece-4ce6-886d-2e74c4024467"
      },
      "execution_count": null,
      "outputs": [
        {
          "output_type": "stream",
          "name": "stdout",
          "text": [
            "[[2104.    5.]\n",
            " [1416.    3.]\n",
            " [1534.    3.]]\n"
          ]
        }
      ]
    },
    {
      "cell_type": "code",
      "execution_count": null,
      "metadata": {
        "colab": {
          "base_uri": "https://localhost:8080/"
        },
        "id": "aBvL8AzDNCdj",
        "outputId": "94ccb234-31a4-4bf9-bbd0-4b3b1b562c7e"
      },
      "outputs": [
        {
          "output_type": "stream",
          "name": "stdout",
          "text": [
            "(3, 2)\n"
          ]
        },
        {
          "output_type": "execute_result",
          "data": {
            "text/plain": [
              "array([[2104.,    5.],\n",
              "       [1416.,    3.],\n",
              "       [1534.,    3.]])"
            ]
          },
          "metadata": {},
          "execution_count": 58
        }
      ],
      "source": [
        "print(X.shape)\n",
        "X"
      ]
    },
    {
      "cell_type": "markdown",
      "metadata": {
        "id": "gXYwvNjvSZDz"
      },
      "source": [
        "Ypredict = X.Theta"
      ]
    },
    {
      "cell_type": "code",
      "execution_count": null,
      "metadata": {
        "id": "3kDS-S9GSYY-"
      },
      "outputs": [],
      "source": [
        "def Ypredict(X, theta):\n",
        "  return np.dot(X, theta)"
      ]
    },
    {
      "cell_type": "markdown",
      "metadata": {
        "id": "Ulp2P50INb9o"
      },
      "source": [
        "# Closed Form\n",
        "\n",
        "Getting the theta"
      ]
    },
    {
      "cell_type": "code",
      "execution_count": null,
      "metadata": {
        "id": "n8NG5tynNiT_"
      },
      "outputs": [],
      "source": [
        "def closedfrom(X,Y):\n",
        "  Y = np.mat(Y)\n",
        "  theta_1 = np.dot(X.T, X)\n",
        "  theta_2 = np.dot(X.T, y)\n",
        "\n",
        "  #If our matrix is not invertible we can use pseudo inverse.(Question 2)\n",
        " \n",
        "  theta = np.linalg.inv(theta_1).dot(theta_2)  #inverse of matrix and multiplication\n",
        "\n",
        "  #theta = np.linalg.pinv(theta_1).dot(theta_2) \n",
        "  return theta"
      ]
    },
    {
      "cell_type": "code",
      "execution_count": null,
      "metadata": {
        "colab": {
          "base_uri": "https://localhost:8080/"
        },
        "id": "OIGcYzfjNm6l",
        "outputId": "6b74b9ef-0369-467e-a515-dd1059f07c4f"
      },
      "outputs": [
        {
          "output_type": "stream",
          "name": "stdout",
          "text": [
            "[[ 0.07189298]\n",
            " [59.26588166]]\n"
          ]
        }
      ],
      "source": [
        "theta = closedfrom(X, y)\n",
        "print(theta)"
      ]
    },
    {
      "cell_type": "code",
      "execution_count": null,
      "metadata": {
        "colab": {
          "base_uri": "https://localhost:8080/"
        },
        "id": "qr6c6b-GaVRW",
        "outputId": "004f6e6b-b7ec-48e1-8020-88ce54e3252c"
      },
      "outputs": [
        {
          "output_type": "stream",
          "name": "stdout",
          "text": [
            "(3, 2)\n",
            "[[2104.    5.]\n",
            " [1416.    3.]\n",
            " [1534.    3.]]\n"
          ]
        },
        {
          "output_type": "execute_result",
          "data": {
            "text/plain": [
              "array([[447.59224539],\n",
              "       [279.59810949],\n",
              "       [288.08148153]])"
            ]
          },
          "metadata": {},
          "execution_count": 62
        }
      ],
      "source": [
        "print(X.shape)\n",
        "print(X)\n",
        "y_predict =Ypredict(X,theta)\n",
        "y_predict"
      ]
    },
    {
      "cell_type": "code",
      "execution_count": null,
      "metadata": {
        "colab": {
          "base_uri": "https://localhost:8080/"
        },
        "id": "D1WDTv7SG3vB",
        "outputId": "bf0b3ca5-0392-43d9-fc89-8876ea182a53"
      },
      "outputs": [
        {
          "output_type": "execute_result",
          "data": {
            "text/plain": [
              "array([[ 12.40775461],\n",
              "       [-47.59810949],\n",
              "       [ 26.91851847]])"
            ]
          },
          "metadata": {},
          "execution_count": 63
        }
      ],
      "source": [
        "error = y-y_predict\n",
        "error"
      ]
    },
    {
      "cell_type": "code",
      "execution_count": null,
      "metadata": {
        "id": "SBehSggyG3vC"
      },
      "outputs": [],
      "source": []
    }
  ],
  "metadata": {
    "colab": {
      "provenance": [],
      "include_colab_link": true
    },
    "kernelspec": {
      "display_name": "Python 3",
      "language": "python",
      "name": "python3"
    },
    "language_info": {
      "codemirror_mode": {
        "name": "ipython",
        "version": 3
      },
      "file_extension": ".py",
      "mimetype": "text/x-python",
      "name": "python",
      "nbconvert_exporter": "python",
      "pygments_lexer": "ipython3",
      "version": "3.7.6"
    }
  },
  "nbformat": 4,
  "nbformat_minor": 0
}